{
 "cells": [
  {
   "cell_type": "markdown",
   "metadata": {},
   "source": [
    "# Install kaggle-environments"
   ]
  },
  {
   "cell_type": "code",
   "execution_count": null,
   "metadata": {
    "_cell_guid": "b1076dfc-b9ad-4769-8c92-a6c4dae69d19",
    "_uuid": "8f2839f25d086af736a60e9eeb907d3b93b6e0e5"
   },
   "outputs": [],
   "source": [
    "# 1. Enable Internet in the Kernel (Settings side pane)\n",
    "\n",
    "# 2. Curl cache may need purged if v0.1.6 cannot be found (uncomment if needed).\n",
    "# !curl -X PURGE https://pypi.org/simple/kaggle-environments\n",
    "\n",
    "# ConnectX environment was defined in v0.1.6\n",
    "%pip install \"kaggle-environments>=0.1.6\"\n",
    "\n",
    "# Note: If you see errors like:\n",
    "#\n",
    "#     AttributeError: 'dict' object has no attribute '__NUMPY_SETUP__'\n",
    "#\n",
    "# , you should either run this notebook in a conda (Anaconda) environment,\n",
    "# or install an older version of kaggle-environment (comment the previous pip install statement, uncomment this one):\n",
    "# %pip install \"kaggle-environments>=0.1.6,<=1.12.0\"\n",
    "\n",
    "# Note: If you see errors like:\n",
    "#\n",
    "#     error: Microsoft Visual C++ 14.0 or greater is required\n",
    "#\n",
    "# , follow the instructions in <https://stackoverflow.com/questions/64261546> to install the requirements:\n"
   ]
  },
  {
   "cell_type": "markdown",
   "metadata": {},
   "source": [
    "# Create ConnectX Environment"
   ]
  },
  {
   "cell_type": "code",
   "execution_count": null,
   "metadata": {
    "_cell_guid": "79c7e3d0-c299-4dcb-8224-4455121ee9b0",
    "_uuid": "d629ff2d2480ee46fbb7e2d37f6b5fab8052498a"
   },
   "outputs": [],
   "source": [
    "from kaggle_environments import evaluate, make\n",
    "\n",
    "env = make(\"connectx\", debug=True)\n",
    "print(env.render(mode=\"ansi\"))\n"
   ]
  },
  {
   "cell_type": "markdown",
   "metadata": {},
   "source": [
    "# Create an Agent\n",
    "\n",
    "To create the submission, an agent function should be fully encapsulated (no external dependencies).  \n",
    "\n",
    "When your agent is being evaluated against others, it will not have access to the Kaggle docker image.  Only the following can be imported: Python Standard Library Modules, gym, numpy, scipy, pytorch (1.3.1, cpu only), and more may be added later.\n",
    "\n"
   ]
  },
  {
   "cell_type": "code",
   "execution_count": null,
   "metadata": {},
   "outputs": [],
   "source": [
    "# This agent random chooses a non-empty column.\n",
    "def my_agent(observation, configuration):\n",
    "    from random import choice\n",
    "    return choice([c for c in range(configuration.columns) if observation.board[c] == 0])\n"
   ]
  },
  {
   "cell_type": "markdown",
   "metadata": {},
   "source": [
    "# Test your Agent"
   ]
  },
  {
   "cell_type": "code",
   "execution_count": null,
   "metadata": {},
   "outputs": [],
   "source": [
    "env.reset()\n",
    "# Play as the first agent against default \"random\" agent.\n",
    "env.run([my_agent, \"random\"])\n",
    "env.render(mode=\"ipython\", width=500, height=450)\n"
   ]
  },
  {
   "cell_type": "markdown",
   "metadata": {},
   "source": [
    "# Debug/Train your Agent"
   ]
  },
  {
   "cell_type": "code",
   "execution_count": null,
   "metadata": {},
   "outputs": [],
   "source": [
    "# Play as first position against random agent.\n",
    "trainer = env.train([None, \"random\"])\n",
    "\n",
    "observation = trainer.reset()\n",
    "\n",
    "while not env.done:\n",
    "    my_action = my_agent(observation, env.configuration)\n",
    "    print(\"My Action\", my_action)\n",
    "    observation, reward, done, info = trainer.step(my_action)\n",
    "    # env.render(mode=\"ipython\", width=100, height=90, header=False, controls=False)\n",
    "env.render()\n"
   ]
  },
  {
   "cell_type": "markdown",
   "metadata": {},
   "source": [
    "# Evaluate your Agent"
   ]
  },
  {
   "cell_type": "code",
   "execution_count": null,
   "metadata": {},
   "outputs": [],
   "source": [
    "def mean_reward(rewards):\n",
    "    return sum(r[0] for r in rewards) / float(len(rewards))\n",
    "\n",
    "# Run multiple episodes to estimate its performance.\n",
    "print(\"My Agent vs Random Agent:\", mean_reward(evaluate(\"connectx\", [my_agent, \"random\"], num_episodes=10)))\n",
    "print(\"My Agent vs Negamax Agent:\", mean_reward(evaluate(\"connectx\", [my_agent, \"negamax\"], num_episodes=10)))\n"
   ]
  },
  {
   "cell_type": "markdown",
   "metadata": {},
   "source": [
    "# Play your Agent\n",
    "Click on any column to place a checker there (\"manually select action\")."
   ]
  },
  {
   "cell_type": "code",
   "execution_count": null,
   "metadata": {},
   "outputs": [],
   "source": [
    "# Note: This function only works on Jupyter Notebook v6 or older (pip install \"notebook<7\");\n",
    "# on Jupyter Lab and Jupyter Notebook v7 this will not work.\n",
    "\n",
    "# \"None\" represents which agent you'll manually play as (first or second player).\n",
    "env.play([None, \"negamax\"], width=500, height=450)\n"
   ]
  },
  {
   "cell_type": "markdown",
   "metadata": {},
   "source": [
    "# Write Submission File\n",
    "\n"
   ]
  },
  {
   "cell_type": "code",
   "execution_count": null,
   "metadata": {},
   "outputs": [],
   "source": [
    "import inspect\n",
    "import os\n",
    "\n",
    "def write_agent_to_file(function, file):\n",
    "    with open(file, \"a\" if os.path.exists(file) else \"w\") as f:\n",
    "        f.write(inspect.getsource(function))\n",
    "        print(function, \"written to\", file)\n",
    "\n",
    "write_agent_to_file(my_agent, \"submission.py\")\n"
   ]
  },
  {
   "cell_type": "markdown",
   "metadata": {},
   "source": [
    "# Validate Submission\n",
    "Play your submission against itself.  This is the first episode the competition will run to weed out erroneous agents.\n",
    "\n",
    "Why validate? This roughly verifies that your submission is fully encapsulated and can be run remotely."
   ]
  },
  {
   "cell_type": "code",
   "execution_count": null,
   "metadata": {},
   "outputs": [],
   "source": [
    "agent = \"submission.py\"\n",
    "\n",
    "env = make(\"connectx\", debug=True)\n",
    "env.run([agent, agent])\n",
    "print(\"Success!\" if env.state[0].status == env.state[1].status == \"DONE\" else \"Failed...\")\n"
   ]
  },
  {
   "cell_type": "markdown",
   "metadata": {},
   "source": [
    "# Submit to Competition\n",
    "\n",
    "1. Commit this kernel.\n",
    "2. View the commited version.\n",
    "3. Go to \"Data\" section and find submission.py file.\n",
    "4. Click \"Submit to Competition\"\n",
    "5. Go to [My Submissions](https://kaggle.com/c/sds-ai-connect-four/submissions) to view your score and episodes being played."
   ]
  }
 ],
 "metadata": {
  "kernelspec": {
   "display_name": "Python 3 (ipykernel)",
   "language": "python",
   "name": "python3"
  },
  "language_info": {
   "codemirror_mode": {
    "name": "ipython",
    "version": 3
   },
   "file_extension": ".py",
   "mimetype": "text/x-python",
   "name": "python",
   "nbconvert_exporter": "python",
   "pygments_lexer": "ipython3",
   "version": "3.11.6"
  }
 },
 "nbformat": 4,
 "nbformat_minor": 4
}
